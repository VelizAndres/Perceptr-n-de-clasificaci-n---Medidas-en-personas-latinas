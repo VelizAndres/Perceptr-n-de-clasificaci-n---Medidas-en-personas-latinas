{
 "cells": [
  {
   "cell_type": "code",
   "execution_count": 1,
   "id": "8a09fe33",
   "metadata": {},
   "outputs": [
    {
     "name": "stderr",
     "output_type": "stream",
     "text": [
      "C:\\Users\\andre\\AppData\\Local\\Temp\\ipykernel_16656\\1379534394.py:3: DeprecationWarning: the imp module is deprecated in favour of importlib and slated for removal in Python 3.12; see the module's documentation for alternative uses\n",
      "  import imp\n"
     ]
    }
   ],
   "source": [
    "import random\n",
    "import matplotlib.pyplot as plt\n",
    "import imp\n",
    "import pandas as pd"
   ]
  },
  {
   "cell_type": "code",
   "execution_count": 2,
   "id": "ad98ec49",
   "metadata": {},
   "outputs": [],
   "source": [
    "class Perceptron:\n",
    "    def __init__(self, input_number, step_size =0.1):\n",
    "        self._ins = input_number\n",
    "        self._w = [random.random() for _ in range(input_number)]\n",
    "        self._eta = step_size\n",
    "        \n",
    "    def predict(self, inputs):\n",
    "        calculo = sum(w * entrada for w, entrada in zip(self._w, inputs))\n",
    "        if calculo > 0:\n",
    "            return 1\n",
    "        return 0\n",
    "                \n",
    "    def train(self, inputs, ex_output):\n",
    "        output = self.predict(inputs)\n",
    "        error = ex_output - output\n",
    "        if error !=0:\n",
    "            self._w = [w + self._eta * error * x for w, x in zip(self._w, inputs)]\n",
    "        return error"
   ]
  },
  {
   "cell_type": "code",
   "execution_count": 3,
   "id": "37d8a858",
   "metadata": {},
   "outputs": [
    {
     "data": {
      "text/html": [
       "<div>\n",
       "<style scoped>\n",
       "    .dataframe tbody tr th:only-of-type {\n",
       "        vertical-align: middle;\n",
       "    }\n",
       "\n",
       "    .dataframe tbody tr th {\n",
       "        vertical-align: top;\n",
       "    }\n",
       "\n",
       "    .dataframe thead th {\n",
       "        text-align: right;\n",
       "    }\n",
       "</style>\n",
       "<table border=\"1\" class=\"dataframe\">\n",
       "  <thead>\n",
       "    <tr style=\"text-align: right;\">\n",
       "      <th></th>\n",
       "      <th>estatura</th>\n",
       "      <th>peso</th>\n",
       "      <th>sexo</th>\n",
       "    </tr>\n",
       "  </thead>\n",
       "  <tbody>\n",
       "    <tr>\n",
       "      <th>0</th>\n",
       "      <td>1.68</td>\n",
       "      <td>73.7</td>\n",
       "      <td>1</td>\n",
       "    </tr>\n",
       "    <tr>\n",
       "      <th>1</th>\n",
       "      <td>1.76</td>\n",
       "      <td>77.1</td>\n",
       "      <td>0</td>\n",
       "    </tr>\n",
       "    <tr>\n",
       "      <th>2</th>\n",
       "      <td>1.60</td>\n",
       "      <td>59.3</td>\n",
       "      <td>1</td>\n",
       "    </tr>\n",
       "    <tr>\n",
       "      <th>3</th>\n",
       "      <td>1.83</td>\n",
       "      <td>85.5</td>\n",
       "      <td>0</td>\n",
       "    </tr>\n",
       "    <tr>\n",
       "      <th>4</th>\n",
       "      <td>1.62</td>\n",
       "      <td>56.2</td>\n",
       "      <td>1</td>\n",
       "    </tr>\n",
       "    <tr>\n",
       "      <th>...</th>\n",
       "      <td>...</td>\n",
       "      <td>...</td>\n",
       "      <td>...</td>\n",
       "    </tr>\n",
       "    <tr>\n",
       "      <th>58</th>\n",
       "      <td>1.58</td>\n",
       "      <td>54.9</td>\n",
       "      <td>1</td>\n",
       "    </tr>\n",
       "    <tr>\n",
       "      <th>59</th>\n",
       "      <td>1.75</td>\n",
       "      <td>73.6</td>\n",
       "      <td>0</td>\n",
       "    </tr>\n",
       "    <tr>\n",
       "      <th>60</th>\n",
       "      <td>1.60</td>\n",
       "      <td>62.2</td>\n",
       "      <td>1</td>\n",
       "    </tr>\n",
       "    <tr>\n",
       "      <th>61</th>\n",
       "      <td>1.80</td>\n",
       "      <td>80.9</td>\n",
       "      <td>0</td>\n",
       "    </tr>\n",
       "    <tr>\n",
       "      <th>62</th>\n",
       "      <td>1.58</td>\n",
       "      <td>58.4</td>\n",
       "      <td>1</td>\n",
       "    </tr>\n",
       "  </tbody>\n",
       "</table>\n",
       "<p>63 rows × 3 columns</p>\n",
       "</div>"
      ],
      "text/plain": [
       "    estatura  peso  sexo\n",
       "0       1.68  73.7     1\n",
       "1       1.76  77.1     0\n",
       "2       1.60  59.3     1\n",
       "3       1.83  85.5     0\n",
       "4       1.62  56.2     1\n",
       "..       ...   ...   ...\n",
       "58      1.58  54.9     1\n",
       "59      1.75  73.6     0\n",
       "60      1.60  62.2     1\n",
       "61      1.80  80.9     0\n",
       "62      1.58  58.4     1\n",
       "\n",
       "[63 rows x 3 columns]"
      ]
     },
     "execution_count": 3,
     "metadata": {},
     "output_type": "execute_result"
    }
   ],
   "source": [
    "# Conjunto de entradas\n",
    "data = [[170, 56, 1], # Mujer de 1.7m y 56 kg\n",
    "[172, 63, 0], # Hombre de 1.72 y 63 kg\n",
    "[160, 50, 1],\n",
    "[170, 63, 0],\n",
    "[174, 66, 0],\n",
    "[158, 55, 1],\n",
    "[183, 80, 0],\n",
    "[182, 70, 0],\n",
    "[165, 54, 1]]\n",
    " \n",
    "data = pd.read_csv('antropo-latinos.csv')\n",
    "data = data[['estatura','peso','sexo']]\n",
    "data"
   ]
  },
  {
   "cell_type": "code",
   "execution_count": 4,
   "id": "2540dfeb",
   "metadata": {},
   "outputs": [],
   "source": [
    "# Crear preceptron de 3 entradas, variables: estatura, peso, genero\n",
    "pr = Perceptron(3,0.001)\n",
    "\n",
    "#Lista de pesos inicial\n",
    "weights =[]\n",
    "#Lista de errores inicial\n",
    "errores = []\n"
   ]
  },
  {
   "cell_type": "code",
   "execution_count": 5,
   "id": "d535792c",
   "metadata": {},
   "outputs": [
    {
     "data": {
      "text/html": [
       "<div>\n",
       "<style scoped>\n",
       "    .dataframe tbody tr th:only-of-type {\n",
       "        vertical-align: middle;\n",
       "    }\n",
       "\n",
       "    .dataframe tbody tr th {\n",
       "        vertical-align: top;\n",
       "    }\n",
       "\n",
       "    .dataframe thead th {\n",
       "        text-align: right;\n",
       "    }\n",
       "</style>\n",
       "<table border=\"1\" class=\"dataframe\">\n",
       "  <thead>\n",
       "    <tr style=\"text-align: right;\">\n",
       "      <th></th>\n",
       "      <th>estatura</th>\n",
       "      <th>peso</th>\n",
       "      <th>sexo</th>\n",
       "    </tr>\n",
       "  </thead>\n",
       "  <tbody>\n",
       "    <tr>\n",
       "      <th>0</th>\n",
       "      <td>1.68</td>\n",
       "      <td>73.7</td>\n",
       "      <td>1</td>\n",
       "    </tr>\n",
       "    <tr>\n",
       "      <th>1</th>\n",
       "      <td>1.76</td>\n",
       "      <td>77.1</td>\n",
       "      <td>0</td>\n",
       "    </tr>\n",
       "    <tr>\n",
       "      <th>2</th>\n",
       "      <td>1.60</td>\n",
       "      <td>59.3</td>\n",
       "      <td>1</td>\n",
       "    </tr>\n",
       "    <tr>\n",
       "      <th>3</th>\n",
       "      <td>1.83</td>\n",
       "      <td>85.5</td>\n",
       "      <td>0</td>\n",
       "    </tr>\n",
       "    <tr>\n",
       "      <th>4</th>\n",
       "      <td>1.62</td>\n",
       "      <td>56.2</td>\n",
       "      <td>1</td>\n",
       "    </tr>\n",
       "    <tr>\n",
       "      <th>...</th>\n",
       "      <td>...</td>\n",
       "      <td>...</td>\n",
       "      <td>...</td>\n",
       "    </tr>\n",
       "    <tr>\n",
       "      <th>58</th>\n",
       "      <td>1.58</td>\n",
       "      <td>54.9</td>\n",
       "      <td>1</td>\n",
       "    </tr>\n",
       "    <tr>\n",
       "      <th>59</th>\n",
       "      <td>1.75</td>\n",
       "      <td>73.6</td>\n",
       "      <td>0</td>\n",
       "    </tr>\n",
       "    <tr>\n",
       "      <th>60</th>\n",
       "      <td>1.60</td>\n",
       "      <td>62.2</td>\n",
       "      <td>1</td>\n",
       "    </tr>\n",
       "    <tr>\n",
       "      <th>61</th>\n",
       "      <td>1.80</td>\n",
       "      <td>80.9</td>\n",
       "      <td>0</td>\n",
       "    </tr>\n",
       "    <tr>\n",
       "      <th>62</th>\n",
       "      <td>1.58</td>\n",
       "      <td>58.4</td>\n",
       "      <td>1</td>\n",
       "    </tr>\n",
       "  </tbody>\n",
       "</table>\n",
       "<p>63 rows × 3 columns</p>\n",
       "</div>"
      ],
      "text/plain": [
       "    estatura  peso  sexo\n",
       "0       1.68  73.7     1\n",
       "1       1.76  77.1     0\n",
       "2       1.60  59.3     1\n",
       "3       1.83  85.5     0\n",
       "4       1.62  56.2     1\n",
       "..       ...   ...   ...\n",
       "58      1.58  54.9     1\n",
       "59      1.75  73.6     0\n",
       "60      1.60  62.2     1\n",
       "61      1.80  80.9     0\n",
       "62      1.58  58.4     1\n",
       "\n",
       "[63 rows x 3 columns]"
      ]
     },
     "execution_count": 5,
     "metadata": {},
     "output_type": "execute_result"
    }
   ],
   "source": [
    "data"
   ]
  },
  {
   "cell_type": "code",
   "execution_count": 6,
   "id": "be976a78",
   "metadata": {},
   "outputs": [
    {
     "name": "stderr",
     "output_type": "stream",
     "text": [
      "<>:4: SyntaxWarning: \"is\" with a literal. Did you mean \"==\"?\n",
      "<>:4: SyntaxWarning: \"is\" with a literal. Did you mean \"==\"?\n",
      "C:\\Users\\andre\\AppData\\Local\\Temp\\ipykernel_16656\\2045539230.py:4: SyntaxWarning: \"is\" with a literal. Did you mean \"==\"?\n",
      "  if data[\"b\"] is \"\":\n"
     ]
    }
   ],
   "source": [
    "#Fase de entrenamiento\n",
    "\n",
    "try:\n",
    "    if data[\"b\"] is \"\":\n",
    "        data.insert(0, \"b\", 1, allow_duplicates=False)    \n",
    "except:\n",
    "    data.insert(0, \"b\", 1, allow_duplicates=False)\n",
    "    \n",
    "for _ in range(100):\n",
    "    for i in range(len(data)):\n",
    "        # La salida es la variable sexo\n",
    "        output = data.iloc[i][data.shape[1]-1]\n",
    "        # bias + x1 +x2 + ...\n",
    "        #inp = [1] + persona[0:-1]\n",
    "        inp =  data.iloc[i].values\n",
    "        inp = inp[:-1]\n",
    "        weights.append(pr._w)\n",
    "        err = pr.train(inp, output)\n",
    "        errores.append(err)\n"
   ]
  },
  {
   "cell_type": "code",
   "execution_count": 7,
   "id": "f4d50b60",
   "metadata": {},
   "outputs": [],
   "source": [
    "#Valores para evaluar la respuesta del perceptron\n",
    "#estatura = float(input(\"Introduzca su estatura\"))\n",
    "#peso =  float(input(\"Introduzca su peso\"))\n",
    "\n",
    "estatura = 1.70\n",
    "peso = 68"
   ]
  },
  {
   "cell_type": "code",
   "execution_count": 8,
   "id": "5e604e07",
   "metadata": {},
   "outputs": [
    {
     "name": "stdout",
     "output_type": "stream",
     "text": [
      "Mujer\n"
     ]
    }
   ],
   "source": [
    "\n",
    "\n",
    "if pr.predict([1,estatura,peso]) ==1:\n",
    "    print(\"Mujer\")\n",
    "else:\n",
    "    print(\"Hombre\")"
   ]
  },
  {
   "cell_type": "code",
   "execution_count": 9,
   "id": "e5b81293",
   "metadata": {},
   "outputs": [
    {
     "data": {
      "image/png": "[encoded data removed]",
      "text/plain": [
       "<Figure size 640x480 with 1 Axes>"
      ]
     },
     "metadata": {},
     "output_type": "display_data"
    }
   ],
   "source": [
    "puede_graficar = True\n",
    "try:\n",
    "    imp.find_module('matplotlib')\n",
    "except:\n",
    "    puede_graficar = False\n",
    "\n",
    "if not puede_graficar:\n",
    "    print(\"No es posible graficar los resultados porque hace falta el modulo matplotlib\")\n",
    "    sys.exit(0)\n",
    "    pass\n",
    "plt.plot(errores)\n",
    "plt.show();"
   ]
  },
  {
   "cell_type": "code",
   "execution_count": null,
   "id": "9db97132",
   "metadata": {},
   "outputs": [],
   "source": []
  },
  {
   "cell_type": "code",
   "execution_count": null,
   "id": "b5c8f4d8",
   "metadata": {},
   "outputs": [],
   "source": []
  }
 ],
 "metadata": {
  "kernelspec": {
   "display_name": "Python 3 (ipykernel)",
   "language": "python",
   "name": "python3"
  },
  "language_info": {
   "codemirror_mode": {
    "name": "ipython",
    "version": 3
   },
   "file_extension": ".py",
   "mimetype": "text/x-python",
   "name": "python",
   "nbconvert_exporter": "python",
   "pygments_lexer": "ipython3",
   "version": "3.10.4"
  }
 },
 "nbformat": 4,
 "nbformat_minor": 5
}
